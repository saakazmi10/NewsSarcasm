{
 "cells": [
  {
   "cell_type": "code",
   "execution_count": 1,
   "metadata": {
    "_cell_guid": "b1076dfc-b9ad-4769-8c92-a6c4dae69d19",
    "_uuid": "8f2839f25d086af736a60e9eeb907d3b93b6e0e5"
   },
   "outputs": [
    {
     "name": "stderr",
     "output_type": "stream",
     "text": [
      "Using TensorFlow backend.\n"
     ]
    },
    {
     "name": "stdout",
     "output_type": "stream",
     "text": [
      "['Sarcasm_Headlines_Dataset.json']\n"
     ]
    }
   ],
   "source": [
    "import pandas as pd\n",
    "import numpy as np\n",
    "import matplotlib.pyplot as plt\n",
    "import seaborn as sns\n",
    "from sklearn.model_selection import train_test_split\n",
    "from sklearn.preprocessing import LabelEncoder\n",
    "from keras.models import Model\n",
    "from keras.layers import LSTM, Activation, Dense, Dropout, Input, Embedding\n",
    "from keras.optimizers import RMSprop\n",
    "from keras.preprocessing.text import Tokenizer\n",
    "from keras.preprocessing import sequence\n",
    "from keras.utils import to_categorical\n",
    "from keras.callbacks import EarlyStopping\n",
    "from sklearn.feature_extraction.text import CountVectorizer\n",
    "from keras.preprocessing.text import Tokenizer\n",
    "from keras.preprocessing.sequence import pad_sequences\n",
    "from keras.models import Sequential\n",
    "from keras.layers import Dense, Embedding, LSTM, SpatialDropout1D\n",
    "from sklearn.model_selection import train_test_split\n",
    "from keras.utils.np_utils import to_categorical\n",
    "%matplotlib inline\n",
    "import os\n",
    "import re\n",
    "print(os.listdir(\"../input\"))\n",
    "\n",
    "# Any results you write to the current directory are saved as output."
   ]
  },
  {
   "cell_type": "markdown",
   "metadata": {},
   "source": [
    "# Data Pre-Processing\n",
    "- Getting rid of unwanted data\n",
    "- Checking up if the data is normalized or not\n",
    "- Filtering Headlines\n",
    "- Defining max features\n",
    "- Vectorize & Convert text for input\n",
    "- Splitting data to train & test"
   ]
  },
  {
   "cell_type": "code",
   "execution_count": 2,
   "metadata": {
    "_cell_guid": "79c7e3d0-c299-4dcb-8224-4455121ee9b0",
    "_uuid": "d629ff2d2480ee46fbb7e2d37f6b5fab8052498a"
   },
   "outputs": [
    {
     "data": {
      "text/html": [
       "<div>\n",
       "<style scoped>\n",
       "    .dataframe tbody tr th:only-of-type {\n",
       "        vertical-align: middle;\n",
       "    }\n",
       "\n",
       "    .dataframe tbody tr th {\n",
       "        vertical-align: top;\n",
       "    }\n",
       "\n",
       "    .dataframe thead th {\n",
       "        text-align: right;\n",
       "    }\n",
       "</style>\n",
       "<table border=\"1\" class=\"dataframe\">\n",
       "  <thead>\n",
       "    <tr style=\"text-align: right;\">\n",
       "      <th></th>\n",
       "      <th>article_link</th>\n",
       "      <th>headline</th>\n",
       "      <th>is_sarcastic</th>\n",
       "    </tr>\n",
       "  </thead>\n",
       "  <tbody>\n",
       "    <tr>\n",
       "      <th>0</th>\n",
       "      <td>https://www.huffingtonpost.com/entry/versace-b...</td>\n",
       "      <td>former versace store clerk sues over secret 'b...</td>\n",
       "      <td>0</td>\n",
       "    </tr>\n",
       "    <tr>\n",
       "      <th>1</th>\n",
       "      <td>https://www.huffingtonpost.com/entry/roseanne-...</td>\n",
       "      <td>the 'roseanne' revival catches up to our thorn...</td>\n",
       "      <td>0</td>\n",
       "    </tr>\n",
       "    <tr>\n",
       "      <th>2</th>\n",
       "      <td>https://local.theonion.com/mom-starting-to-fea...</td>\n",
       "      <td>mom starting to fear son's web series closest ...</td>\n",
       "      <td>1</td>\n",
       "    </tr>\n",
       "    <tr>\n",
       "      <th>3</th>\n",
       "      <td>https://politics.theonion.com/boehner-just-wan...</td>\n",
       "      <td>boehner just wants wife to listen, not come up...</td>\n",
       "      <td>1</td>\n",
       "    </tr>\n",
       "    <tr>\n",
       "      <th>4</th>\n",
       "      <td>https://www.huffingtonpost.com/entry/jk-rowlin...</td>\n",
       "      <td>j.k. rowling wishes snape happy birthday in th...</td>\n",
       "      <td>0</td>\n",
       "    </tr>\n",
       "  </tbody>\n",
       "</table>\n",
       "</div>"
      ],
      "text/plain": [
       "                                        article_link     ...      is_sarcastic\n",
       "0  https://www.huffingtonpost.com/entry/versace-b...     ...                 0\n",
       "1  https://www.huffingtonpost.com/entry/roseanne-...     ...                 0\n",
       "2  https://local.theonion.com/mom-starting-to-fea...     ...                 1\n",
       "3  https://politics.theonion.com/boehner-just-wan...     ...                 1\n",
       "4  https://www.huffingtonpost.com/entry/jk-rowlin...     ...                 0\n",
       "\n",
       "[5 rows x 3 columns]"
      ]
     },
     "execution_count": 2,
     "metadata": {},
     "output_type": "execute_result"
    }
   ],
   "source": [
    "df = pd.read_json('../input/Sarcasm_Headlines_Dataset.json', lines=True)\n",
    "df.head()\n"
   ]
  },
  {
   "cell_type": "markdown",
   "metadata": {},
   "source": [
    "- ### Getting rid of unwanted data"
   ]
  },
  {
   "cell_type": "code",
   "execution_count": 3,
   "metadata": {},
   "outputs": [
    {
     "data": {
      "text/html": [
       "<div>\n",
       "<style scoped>\n",
       "    .dataframe tbody tr th:only-of-type {\n",
       "        vertical-align: middle;\n",
       "    }\n",
       "\n",
       "    .dataframe tbody tr th {\n",
       "        vertical-align: top;\n",
       "    }\n",
       "\n",
       "    .dataframe thead th {\n",
       "        text-align: right;\n",
       "    }\n",
       "</style>\n",
       "<table border=\"1\" class=\"dataframe\">\n",
       "  <thead>\n",
       "    <tr style=\"text-align: right;\">\n",
       "      <th></th>\n",
       "      <th>headline</th>\n",
       "      <th>is_sarcastic</th>\n",
       "    </tr>\n",
       "  </thead>\n",
       "  <tbody>\n",
       "    <tr>\n",
       "      <th>0</th>\n",
       "      <td>former versace store clerk sues over secret 'b...</td>\n",
       "      <td>0</td>\n",
       "    </tr>\n",
       "    <tr>\n",
       "      <th>1</th>\n",
       "      <td>the 'roseanne' revival catches up to our thorn...</td>\n",
       "      <td>0</td>\n",
       "    </tr>\n",
       "    <tr>\n",
       "      <th>2</th>\n",
       "      <td>mom starting to fear son's web series closest ...</td>\n",
       "      <td>1</td>\n",
       "    </tr>\n",
       "    <tr>\n",
       "      <th>3</th>\n",
       "      <td>boehner just wants wife to listen, not come up...</td>\n",
       "      <td>1</td>\n",
       "    </tr>\n",
       "    <tr>\n",
       "      <th>4</th>\n",
       "      <td>j.k. rowling wishes snape happy birthday in th...</td>\n",
       "      <td>0</td>\n",
       "    </tr>\n",
       "  </tbody>\n",
       "</table>\n",
       "</div>"
      ],
      "text/plain": [
       "                                            headline  is_sarcastic\n",
       "0  former versace store clerk sues over secret 'b...             0\n",
       "1  the 'roseanne' revival catches up to our thorn...             0\n",
       "2  mom starting to fear son's web series closest ...             1\n",
       "3  boehner just wants wife to listen, not come up...             1\n",
       "4  j.k. rowling wishes snape happy birthday in th...             0"
      ]
     },
     "execution_count": 3,
     "metadata": {},
     "output_type": "execute_result"
    }
   ],
   "source": [
    "df = df[['headline','is_sarcastic']]\n",
    "df.head()"
   ]
  },
  {
   "cell_type": "markdown",
   "metadata": {},
   "source": [
    "- ### Checking for normalization"
   ]
  },
  {
   "cell_type": "code",
   "execution_count": 4,
   "metadata": {},
   "outputs": [
    {
     "data": {
      "text/plain": [
       "Text(0.5, 1.0, 'Sarcasm vs Non-sarcasm')"
      ]
     },
     "execution_count": 4,
     "metadata": {},
     "output_type": "execute_result"
    },
    {
     "data": {
      "image/png": "iVBORw0KGgoAAAANSUhEUgAAAZUAAAEWCAYAAACufwpNAAAABHNCSVQICAgIfAhkiAAAAAlwSFlzAAALEgAACxIB0t1+/AAAADl0RVh0U29mdHdhcmUAbWF0cGxvdGxpYiB2ZXJzaW9uIDMuMC4zLCBodHRwOi8vbWF0cGxvdGxpYi5vcmcvnQurowAAGZVJREFUeJzt3X20XXV95/H3h0QBFeQpIiTRsDTFotURI+KorUtqCI4apvUBpkhQxtSRWh2tD2iXUCkzuuqIYqszVCKkKohoS6ZFYwaxjB1BgiiIqEQeTCKYSAL4gA/B7/yxf8HD9d7kkux7TmLer7X2unt/92/v/ds5N+dz98PZJ1WFJEl92G3UHZAk/fYwVCRJvTFUJEm9MVQkSb0xVCRJvTFUJEm9MVQkSb0xVDSlkjw7yf9LcneSDUn+LcnTR92vHUmS05NUkpcN1Ka32pzR9Ux68AwVTZkkewP/DHwQ2A+YCfwV8PNtWNf0fnu3w9kA/FWSaaPuyGTtAq+JtoGhoqn0OwBVdUFV3VdV91bV56vqOoAkj0vyhSR3Jvlhko8n2WfzwkluTfLWJNcBP2l/vc9O8pkk69tyfzvJdb01ydokP0ry7SRHtfrpST6V5GNt3vVJfifJqUnWJVmdZP54O9fWefGY2geSnN3GT0pyc1vvLUn+ZAv/Vp8DfgGcMMG2Hplkadvv25L8ZZLdBrbzpSTvTbKxbeuYiTaU5PFJ/rUdPf4wySfH9H91knuSXJPkOQPzTk9ycfu3ugc4Kcm0JG9P8t22n9ckmT2JdR2RZGWb94Mk72v1Oe0I7ZVt2Y1JXpPk6UmuS3LX5tdcO6iqcnCYkgHYG7gTOB84Bth3zPzHA88HdgdmAFcA7x+YfyvwNWA2sCcwDfg6cBbwcGAP4NlbWxdwKLAaOLhNzwEe18ZPB34GHA1MB5YCtwDvAB4CvBq4ZYL9eyzwU2CvNj0NuB04svXvHuDQNu8g4IkTrOd04GPAi4Gb23anAwXMaW2WApcAe7X+fwc4uc07Cfhl6+s04L8A3wcywfYuaPu32+C/YZt3ArB/2/6bgDuAPQb6+Uvg2LbsnsCbgevbv3GApwD7T2JdXwZe0cYfARw58NoU8D9b3+a31+efgEfRHe2uA/5g1L/fDhP8vx91Bxx+uwfgd4HzgDXAJmAZcOAEbY8Frh2YvhV41cD0M4H1wPRJbPf+ddEFzjrgD4GHjGl3OrBiYPpFwI+BaW16r/Ymt88E2/kScGIbfz7w3Tb+cOAu4I+BPbfS19OBj7Xxq1oo3B8qLSh+ARw2sMyfAl9s4ycBqwbmPawt++gJtrcUOAeYNYl/x43AUwb6ecWY+d8GFk7yd2FwXVfQnQo9YEybzaEyc6B2J/DygelPA28Y9e+2w/iDp780parqxqo6qapmAU8CDgbeD5DkwCQXttNS99D9tX7AmFWsHhifDdxWVZvGbmdL66qqVcAb6N4U17V2Bw8s/oOB8XuBH1bVfQPT0P01PZ5PAMe38f/UpqmqnwAvB14D3J7kX5I8YYJ1DPpLuqOIPQZqB9Advdw2ULuN7q/2ze7YPFJVP93c5yTPSfLjNtzQ6m+hO6r4SpIbkrxq87JJ/iLJje3U2F3AI3ngazL4ekD3mnx3vB3ZyrpOpjs9+q0kVyd54ZjFx74mY6cnej00YoaKhqaqvkV31PKkVvpvdH+V/l5V7U13uiRjFxsYXw08JuNfIN7iuqrqE1X1bLpTVgW8Z7t3qPMp4LlJZgH/kRYqbZvLq+r5dKe+vgX8/dZWVlUrgFXAawfKP6Q77fTYgdpjgLWTWN//rapHtOGJrXZHVb26qg6mO+L5ULvO8hy6wHkZ3anKfYC7eeBrMvax5quBx43d7tbWVVU3VdXxdKe03gNcnOThW9sf7fgMFU2ZJE9I8qb2hku7gHs8cGVrshfdqaa7k8ykOz+/JV+hu2bx7iQPT7JHkmdtbV1JDk3yvCS7052fvxf4VR/7WFXrgS8CH6W79nJj2+aBSRa2N8qft75NdpvvoHtD3ryN+4CLgDOT7JXkscAb6Y7GHrQkL938mtCdkqrWt73oTlGuB6YneSfddbEt+QhwRpK56Tw5yf5bW1eSE5LMqKpf0Z0mhJ5eE42WoaKp9CPgGcBVSX5CFybfoLtoC9059cPp/oL9F+AzW1pZe3N9Ed01ku/RXad5+STWtTvwbrq/+O+g++v41O3btQf4BN31mk8M1Haje+P/Pt3twn9Ad61kq6rq3+gCdNDrgJ/QXcj/UtvWkm3s79PpXpMf013jen1V3Qwsp7sL7Tt0p9d+xm+e7hrrfXSB93m6GxPOpbuAv7V1LQBuaH34AHBcVd2Ldnqp8ku6JEn98EhFktQbQ0WS1BtDRZLUG0NFktSbXe6BcAcccEDNmTNn1N2QpJ3KNddc88OqmrG1drtcqMyZM4eVK1eOuhuStFNJctvWW3n6S5LUI0NFktQbQ0WS1BtDRZLUG0NFktQbQ0WS1BtDRZLUG0NFktQbQ0WS1Jtd7hP12+tpb1466i5oB3TN35w46i5IOwSPVCRJvTFUJEm9MVQkSb0xVCRJvTFUJEm9MVQkSb0xVCRJvTFUJEm9MVQkSb2ZslBJsiTJuiTfGGfem5JUkgPadJKcnWRVkuuSHD7QdlGSm9qwaKD+tCTXt2XOTpKp2hdJ0uRM5ZHKecCCscUks4H5wPcGyscAc9uwGPhwa7sfcBrwDOAI4LQk+7ZlPgy8emC539iWJGm4pixUquoKYMM4s84C3gLUQG0hsLQ6VwL7JDkIOBpYUVUbqmojsAJY0ObtXVVXVlUBS4Fjp2pfJEmTM9RrKkkWAmur6utjZs0EVg9Mr2m1LdXXjFOfaLuLk6xMsnL9+vXbsQeSpC0ZWqgkeRjwduCdw9rmZlV1TlXNq6p5M2bMGPbmJWmXMcwjlccBhwBfT3IrMAv4apJHA2uB2QNtZ7XaluqzxqlLkkZoaKFSVddX1aOqak5VzaE7ZXV4Vd0BLANObHeBHQncXVW3A8uB+Un2bRfo5wPL27x7khzZ7vo6EbhkWPsiSRrfVN5SfAHwZeDQJGuSnLyF5pcCNwOrgL8HXgtQVRuAM4Cr2/CuVqO1+Uhb5rvAZ6diPyRJkzdl3/xYVcdvZf6cgfECTpmg3RJgyTj1lcCTtq+XkqQ++Yl6SVJvDBVJUm8MFUlSbwwVSVJvDBVJUm8MFUlSbwwVSVJvDBVJUm8MFUlSbwwVSVJvDBVJUm8MFUlSbwwVSVJvDBVJUm8MFUlSbwwVSVJvDBVJUm8MFUlSbwwVSVJvpixUkixJsi7JNwZqf5PkW0muS/KPSfYZmHdqklVJvp3k6IH6glZbleRtA/VDklzV6p9M8tCp2hdJ0uRM5ZHKecCCMbUVwJOq6snAd4BTAZIcBhwHPLEt86Ek05JMA/4OOAY4DDi+tQV4D3BWVT0e2AicPIX7IkmahCkLlaq6Atgwpvb5qtrUJq8EZrXxhcCFVfXzqroFWAUc0YZVVXVzVf0CuBBYmCTA84CL2/LnA8dO1b5IkiZnlNdUXgV8to3PBFYPzFvTahPV9wfuGgiozfVxJVmcZGWSlevXr++p+5KksUYSKkneAWwCPj6M7VXVOVU1r6rmzZgxYxiblKRd0vRhbzDJScALgaOqqlp5LTB7oNmsVmOC+p3APkmmt6OVwfaSpBEZ6pFKkgXAW4AXV9VPB2YtA45LsnuSQ4C5wFeAq4G57U6vh9JdzF/Wwuhy4CVt+UXAJcPaD0nS+KbsSCXJBcBzgQOSrAFOo7vba3dgRXetnSur6jVVdUOSi4Bv0p0WO6Wq7mvr+TNgOTANWFJVN7RNvBW4MMlfA9cC507Vvkg7i++96/dG3QXtgB7zzuuHtq0pC5WqOn6c8oRv/FV1JnDmOPVLgUvHqd9Md3eYJGkH4SfqJUm9MVQkSb0xVCRJvTFUJEm9MVQkSb0xVCRJvTFUJEm9MVQkSb0xVCRJvTFUJEm9MVQkSb0xVCRJvTFUJEm9MVQkSb0xVCRJvTFUJEm9MVQkSb0xVCRJvZmyUEmyJMm6JN8YqO2XZEWSm9rPfVs9Sc5OsirJdUkOH1hmUWt/U5JFA/WnJbm+LXN22pfeS5JGZyqPVM4DFoypvQ24rKrmApe1aYBjgLltWAx8GLoQAk4DnkH3ffSnbQ6i1ubVA8uN3ZYkacimLFSq6gpgw5jyQuD8Nn4+cOxAfWl1rgT2SXIQcDSwoqo2VNVGYAWwoM3bu6qurKoClg6sS5I0IsO+pnJgVd3exu8ADmzjM4HVA+3WtNqW6mvGqUuSRmhkF+rbEUYNY1tJFidZmWTl+vXrh7FJSdolDTtUftBOXdF+rmv1tcDsgXazWm1L9Vnj1MdVVedU1byqmjdjxozt3glJ0viGHSrLgM13cC0CLhmon9juAjsSuLudJlsOzE+yb7tAPx9Y3ubdk+TIdtfXiQPrkiSNyPSpWnGSC4DnAgckWUN3F9e7gYuSnAzcBrysNb8UeAGwCvgp8EqAqtqQ5Azg6tbuXVW1+eL/a+nuMNsT+GwbJEkjNGWhUlXHTzDrqHHaFnDKBOtZAiwZp74SeNL29FGS1C8/US9J6o2hIknqjaEiSeqNoSJJ6o2hIknqjaEiSeqNoSJJ6o2hIknqjaEiSeqNoSJJ6o2hIknqjaEiSeqNoSJJ6s2kQiXJZZOpSZJ2bVt89H2SPYCH0X0nyr5A2qy98TvhJUljbO37VP4UeANwMHANvw6Ve4C/ncJ+SZJ2QlsMlar6APCBJK+rqg8OqU+SpJ3UpL75sao+mOTfA3MGl6mqpVPUL0nSTmhSoZLkH4DHAV8D7mvlAgwVSdL9Jvsd9fOAw9p3yW+3JP8V+M90wXQ98ErgIOBCYH+66zevqKpfJNmdLryeBtwJvLyqbm3rORU4mS7o/ryqlvfRP0nStpns51S+ATy6jw0mmQn8OTCvqp4ETAOOA94DnFVVjwc20oUF7efGVj+rtSPJYW25JwILgA8lmdZHHyVJ22ayoXIA8M0ky5Ms2zxsx3anA3smmU53y/LtwPOAi9v884Fj2/jCNk2bf1SStPqFVfXzqroFWAUcsR19kiRtp8me/jq9rw1W1dok7wW+B9wLfJ7udNddVbWpNVvDrz8HMxNY3ZbdlORuulNkM4ErB1Y9uMwDJFkMLAZ4zGMe09euSJLGmOzdX//a1wbbhygXAocAdwGfojt9NWWq6hzgHIB58+b1cl1IkvSbJvuYlh8luacNP0tyX5J7tnGbfwjcUlXrq+qXwGeAZwH7tNNhALOAtW18LTC79WM68Ei6C/b318dZRpI0ApMKlaraq6r2rqq9gT2BPwY+tI3b/B5wZJKHtWsjRwHfBC4HXtLaLAIuaePL2jRt/hfaXWjLgOOS7J7kEGAu8JVt7JMkqQcP+inF1fkn4Oht2WBVXUV3wf2rdLcT70Z3auqtwBuTrKK7ZnJuW+RcYP9WfyPwtraeG4CL6ALpc8ApVXUfkqSRmeyHH/9oYHI3us+t/GxbN1pVpwGnjSnfzDh3b1XVz4CXTrCeM4Ezt7UfkqR+TfburxcNjG8CbqW72C5J0v0me/fXK6e6I5Kknd9k7/6aleQfk6xrw6eTzJrqzkmSdi6TvVD/Ubq7rQ5uw/9uNUmS7jfZUJlRVR+tqk1tOA+YMYX9kiTthCYbKncmOSHJtDacQPcBREmS7jfZUHkV8DLgDrqHP74EOGmK+iRJ2klN9pbidwGLqmojQJL9gPfShY0kScDkj1SevDlQAKpqA/DUqemSJGlnNdlQ2a09XRi4/0hlskc5kqRdxGSD4X8AX07yqTb9Unw8iiRpjMl+on5pkpV0384I8EdV9c2p65YkaWc06VNYLUQMEknShB70o+8lSZqIoSJJ6o2hIknqjaEiSeqNoSJJ6o2hIknqzUhCJck+SS5O8q0kNyZ5ZpL9kqxIclP7uW9rmyRnJ1mV5Lokhw+sZ1Frf1OSRaPYF0nSr43qSOUDwOeq6gnAU4AbgbcBl1XVXOCyNg1wDDC3DYuBD8P9j4o5DXgGcARw2uCjZCRJwzf0UEnySOD3gXMBquoXVXUXsBA4vzU7Hzi2jS8EllbnSmCfJAcBRwMrqmpDe9jlCmDBEHdFkjTGKI5UDgHWAx9Ncm2SjyR5OHBgVd3e2twBHNjGZwKrB5Zf02oT1X9DksVJViZZuX79+h53RZI0aBShMh04HPhwVT0V+Am/PtUFQFUVUH1tsKrOqap5VTVvxgy/BVmSpsooQmUNsKaqrmrTF9OFzA/aaS3az3Vt/lpg9sDys1ptorokaUSGHipVdQewOsmhrXQU3YMqlwGb7+BaBFzSxpcBJ7a7wI4E7m6nyZYD85Ps2y7Qz281SdKIjOqLtl4HfDzJQ4GbgVfSBdxFSU4GbgNe1tpeCrwAWAX8tLWlqjYkOQO4urV7V/tGSknSiIwkVKrqa8C8cWYdNU7bAk6ZYD1LgCX99k6StK38RL0kqTeGiiSpN4aKJKk3hookqTeGiiSpN4aKJKk3hookqTeGiiSpN4aKJKk3hookqTeGiiSpN4aKJKk3hookqTeGiiSpN4aKJKk3hookqTeGiiSpN4aKJKk3IwuVJNOSXJvkn9v0IUmuSrIqySfb99eTZPc2varNnzOwjlNb/dtJjh7NnkiSNhvlkcrrgRsHpt8DnFVVjwc2Aie3+snAxlY/q7UjyWHAccATgQXAh5JMG1LfJUnjGEmoJJkF/AfgI206wPOAi1uT84Fj2/jCNk2bf1RrvxC4sKp+XlW3AKuAI4azB5Kk8YzqSOX9wFuAX7Xp/YG7qmpTm14DzGzjM4HVAG3+3a39/fVxlpEkjcDQQyXJC4F1VXXNELe5OMnKJCvXr18/rM1K0i5nFEcqzwJenORW4EK6014fAPZJMr21mQWsbeNrgdkAbf4jgTsH6+Ms8wBVdU5VzauqeTNmzOh3byRJ9xt6qFTVqVU1q6rm0F1o/0JV/QlwOfCS1mwRcEkbX9amafO/UFXV6se1u8MOAeYCXxnSbkiSxjF9602G5q3AhUn+GrgWOLfVzwX+IckqYANdEFFVNyS5CPgmsAk4paruG363JUmbjTRUquqLwBfb+M2Mc/dWVf0MeOkEy58JnDl1PZQkPRh+ol6S1BtDRZLUG0NFktQbQ0WS1BtDRZLUG0NFktQbQ0WS1BtDRZLUG0NFktQbQ0WS1BtDRZLUG0NFktQbQ0WS1BtDRZLUG0NFktQbQ0WS1BtDRZLUG0NFktQbQ0WS1Juhh0qS2UkuT/LNJDckeX2r75dkRZKb2s99Wz1Jzk6yKsl1SQ4fWNei1v6mJIuGvS+SpAcaxZHKJuBNVXUYcCRwSpLDgLcBl1XVXOCyNg1wDDC3DYuBD0MXQsBpwDOAI4DTNgeRJGk0hh4qVXV7VX21jf8IuBGYCSwEzm/NzgeObeMLgaXVuRLYJ8lBwNHAiqraUFUbgRXAgiHuiiRpjJFeU0kyB3gqcBVwYFXd3mbdARzYxmcCqwcWW9NqE9XH287iJCuTrFy/fn1v/ZckPdDIQiXJI4BPA2+oqnsG51VVAdXXtqrqnKqaV1XzZsyY0ddqJUljjCRUkjyELlA+XlWfaeUftNNatJ/rWn0tMHtg8VmtNlFdkjQio7j7K8C5wI1V9b6BWcuAzXdwLQIuGaif2O4COxK4u50mWw7MT7Jvu0A/v9UkSSMyfQTbfBbwCuD6JF9rtbcD7wYuSnIycBvwsjbvUuAFwCrgp8ArAapqQ5IzgKtbu3dV1Ybh7IIkaTxDD5Wq+hKQCWYfNU77Ak6ZYF1LgCX99U6StD38RL0kqTeGiiSpN4aKJKk3hookqTeGiiSpN4aKJKk3hookqTeGiiSpN4aKJKk3hookqTeGiiSpN4aKJKk3hookqTeGiiSpN4aKJKk3hookqTeGiiSpN4aKJKk3hookqTc7fagkWZDk20lWJXnbqPsjSbuynTpUkkwD/g44BjgMOD7JYaPtlSTtunbqUAGOAFZV1c1V9QvgQmDhiPskSbus6aPuwHaaCawemF4DPGNsoySLgcVt8sdJvj2Evu0KDgB+OOpO7Ajy3kWj7oJ+k7+fm52WPtby2Mk02tlDZVKq6hzgnFH347dNkpVVNW/U/ZDG4+/naOzsp7/WArMHpme1miRpBHb2ULkamJvkkCQPBY4Dlo24T5K0y9qpT39V1aYkfwYsB6YBS6rqhhF3a1fiKUXtyPz9HIFU1aj7IEn6LbGzn/6SJO1ADBVJUm8MFW0TH4+jHVWSJUnWJfnGqPuyKzJU9KD5eBzt4M4DFoy6E7sqQ0XbwsfjaIdVVVcAG0bdj12VoaJtMd7jcWaOqC+SdiCGiiSpN4aKtoWPx5E0LkNF28LH40gal6GiB62qNgGbH49zI3CRj8fRjiLJBcCXgUOTrEly8qj7tCvxMS2SpN54pCJJ6o2hIknqjaEiSeqNoSJJ6o2hIknqjaEiTZEkP34QbU9P8hdTtX5pWAwVSVJvDBVpiJK8KMlVSa5N8n+SHDgw+ylJvpzkpiSvHljmzUmuTnJdkr8aQbelSTNUpOH6EnBkVT2V7isD3jIw78nA84BnAu9McnCS+cBcuq8b+HfA05L8/pD7LE3a9FF3QNrFzAI+meQg4KHALQPzLqmqe4F7k1xOFyTPBuYD17Y2j6ALmSuG12Vp8gwVabg+CLyvqpYleS5w+sC8sc9MKiDAf6+q/zWc7knbx9Nf0nA9kl9/TcCiMfMWJtkjyf7Ac+meBr0ceFWSRwAkmZnkUcPqrPRgeaQiTZ2HJVkzMP0+uiOTTyXZCHwBOGRg/nXA5cABwBlV9X3g+0l+F/hyEoAfAycA66a++9KD51OKJUm98fSXJKk3hookqTeGiiSpN4aKJKk3hookqTeGiiSpN4aKJKk3/x+yPF865AnAKQAAAABJRU5ErkJggg==\n",
      "text/plain": [
       "<Figure size 432x288 with 1 Axes>"
      ]
     },
     "metadata": {},
     "output_type": "display_data"
    }
   ],
   "source": [
    "sns.countplot(df.is_sarcastic)\n",
    "plt.xlabel('Label')\n",
    "plt.title('Sarcasm vs Non-sarcasm')\n"
   ]
  },
  {
   "cell_type": "markdown",
   "metadata": {},
   "source": [
    "- ### Filtering headlines \n",
    "- So that only valid headlines remain & "
   ]
  },
  {
   "cell_type": "code",
   "execution_count": 5,
   "metadata": {},
   "outputs": [],
   "source": [
    "df['headline'] = df['headline'].apply(lambda x: x.lower())\n",
    "df['headline'] = df['headline'].apply((lambda x: re.sub('[^a-zA-z0-9\\s]','',x)))\n"
   ]
  },
  {
   "cell_type": "markdown",
   "metadata": {},
   "source": [
    "- ### Defining Max features \n",
    "- ### using Tokenizer to vectorize and convert text into Sequences \n",
    " so that the Network can deal with it as input"
   ]
  },
  {
   "cell_type": "code",
   "execution_count": 6,
   "metadata": {},
   "outputs": [],
   "source": [
    "for idx,row in df.iterrows():\n",
    "    row[0] = row[0].replace('rt',' ')\n",
    "    \n",
    "max_fatures = 2000\n",
    "tokenizer = Tokenizer(num_words=max_fatures, split=' ')\n",
    "tokenizer.fit_on_texts(df['headline'].values)\n",
    "X = tokenizer.texts_to_sequences(df['headline'].values)\n",
    "X = pad_sequences(X)"
   ]
  },
  {
   "cell_type": "markdown",
   "metadata": {},
   "source": [
    "### Splitting data to train & test"
   ]
  },
  {
   "cell_type": "code",
   "execution_count": 7,
   "metadata": {},
   "outputs": [
    {
     "name": "stdout",
     "output_type": "stream",
     "text": [
      "(17895, 29) (17895, 2)\n",
      "(8814, 29) (8814, 2)\n"
     ]
    }
   ],
   "source": [
    "Y = pd.get_dummies(df['is_sarcastic']).values\n",
    "X_train, X_test, Y_train, Y_test = train_test_split(X,Y, test_size = 0.33, random_state = 42)\n",
    "print(X_train.shape,Y_train.shape)\n",
    "print(X_test.shape,Y_test.shape)"
   ]
  },
  {
   "cell_type": "markdown",
   "metadata": {},
   "source": [
    "# Defining the LSTM RNN Model\n",
    "With softmax activation"
   ]
  },
  {
   "cell_type": "code",
   "execution_count": 8,
   "metadata": {},
   "outputs": [
    {
     "name": "stdout",
     "output_type": "stream",
     "text": [
      "WARNING:tensorflow:From /opt/conda/lib/python3.6/site-packages/tensorflow/python/framework/op_def_library.py:263: colocate_with (from tensorflow.python.framework.ops) is deprecated and will be removed in a future version.\n",
      "Instructions for updating:\n",
      "Colocations handled automatically by placer.\n",
      "WARNING:tensorflow:From /opt/conda/lib/python3.6/site-packages/keras/backend/tensorflow_backend.py:3445: calling dropout (from tensorflow.python.ops.nn_ops) with keep_prob is deprecated and will be removed in a future version.\n",
      "Instructions for updating:\n",
      "Please use `rate` instead of `keep_prob`. Rate should be set to `rate = 1 - keep_prob`.\n"
     ]
    }
   ],
   "source": [
    "embed_dim = 128\n",
    "lstm_out = 196\n",
    "\n",
    "model = Sequential()\n",
    "model.add(Embedding(max_fatures, embed_dim,input_length = X.shape[1]))\n",
    "model.add(SpatialDropout1D(0.4))\n",
    "model.add(LSTM(lstm_out, dropout=0.2, recurrent_dropout=0.2))\n",
    "model.add(Dense(2,activation='softmax'))\n",
    "model.compile(loss = 'categorical_crossentropy', optimizer='adam',metrics = ['accuracy'])"
   ]
  },
  {
   "cell_type": "code",
   "execution_count": 9,
   "metadata": {},
   "outputs": [
    {
     "data": {
      "image/svg+xml": [
       "<svg height=\"337pt\" viewBox=\"0.00 0.00 242.00 337.00\" width=\"242pt\" xmlns=\"http://www.w3.org/2000/svg\" xmlns:xlink=\"http://www.w3.org/1999/xlink\">\n",
       "<g class=\"graph\" id=\"graph0\" transform=\"scale(1 1) rotate(0) translate(4 333)\">\n",
       "<title>G</title>\n",
       "<polygon fill=\"white\" points=\"-4,4 -4,-333 238,-333 238,4 -4,4\" stroke=\"none\"/>\n",
       "<!-- 140287356109376 -->\n",
       "<g class=\"node\" id=\"node1\"><title>140287356109376</title>\n",
       "<polygon fill=\"none\" points=\"36.5,-219.5 36.5,-255.5 197.5,-255.5 197.5,-219.5 36.5,-219.5\" stroke=\"black\"/>\n",
       "<text font-family=\"Times,serif\" font-size=\"14.00\" text-anchor=\"middle\" x=\"117\" y=\"-233.8\">embedding_1: Embedding</text>\n",
       "</g>\n",
       "<!-- 140287356109992 -->\n",
       "<g class=\"node\" id=\"node2\"><title>140287356109992</title>\n",
       "<polygon fill=\"none\" points=\"0,-146.5 0,-182.5 234,-182.5 234,-146.5 0,-146.5\" stroke=\"black\"/>\n",
       "<text font-family=\"Times,serif\" font-size=\"14.00\" text-anchor=\"middle\" x=\"117\" y=\"-160.8\">spatial_dropout1d_1: SpatialDropout1D</text>\n",
       "</g>\n",
       "<!-- 140287356109376&#45;&gt;140287356109992 -->\n",
       "<g class=\"edge\" id=\"edge2\"><title>140287356109376-&gt;140287356109992</title>\n",
       "<path d=\"M117,-219.313C117,-211.289 117,-201.547 117,-192.569\" fill=\"none\" stroke=\"black\"/>\n",
       "<polygon fill=\"black\" points=\"120.5,-192.529 117,-182.529 113.5,-192.529 120.5,-192.529\" stroke=\"black\"/>\n",
       "</g>\n",
       "<!-- 140287356110496 -->\n",
       "<g class=\"node\" id=\"node3\"><title>140287356110496</title>\n",
       "<polygon fill=\"none\" points=\"68,-73.5 68,-109.5 166,-109.5 166,-73.5 68,-73.5\" stroke=\"black\"/>\n",
       "<text font-family=\"Times,serif\" font-size=\"14.00\" text-anchor=\"middle\" x=\"117\" y=\"-87.8\">lstm_1: LSTM</text>\n",
       "</g>\n",
       "<!-- 140287356109992&#45;&gt;140287356110496 -->\n",
       "<g class=\"edge\" id=\"edge3\"><title>140287356109992-&gt;140287356110496</title>\n",
       "<path d=\"M117,-146.313C117,-138.289 117,-128.547 117,-119.569\" fill=\"none\" stroke=\"black\"/>\n",
       "<polygon fill=\"black\" points=\"120.5,-119.529 117,-109.529 113.5,-119.529 120.5,-119.529\" stroke=\"black\"/>\n",
       "</g>\n",
       "<!-- 140287356110552 -->\n",
       "<g class=\"node\" id=\"node4\"><title>140287356110552</title>\n",
       "<polygon fill=\"none\" points=\"66,-0.5 66,-36.5 168,-36.5 168,-0.5 66,-0.5\" stroke=\"black\"/>\n",
       "<text font-family=\"Times,serif\" font-size=\"14.00\" text-anchor=\"middle\" x=\"117\" y=\"-14.8\">dense_1: Dense</text>\n",
       "</g>\n",
       "<!-- 140287356110496&#45;&gt;140287356110552 -->\n",
       "<g class=\"edge\" id=\"edge4\"><title>140287356110496-&gt;140287356110552</title>\n",
       "<path d=\"M117,-73.3129C117,-65.2895 117,-55.5475 117,-46.5691\" fill=\"none\" stroke=\"black\"/>\n",
       "<polygon fill=\"black\" points=\"120.5,-46.5288 117,-36.5288 113.5,-46.5289 120.5,-46.5288\" stroke=\"black\"/>\n",
       "</g>\n",
       "<!-- 140287356109880 -->\n",
       "<g class=\"node\" id=\"node5\"><title>140287356109880</title>\n",
       "<polygon fill=\"none\" points=\"58,-292.5 58,-328.5 176,-328.5 176,-292.5 58,-292.5\" stroke=\"black\"/>\n",
       "<text font-family=\"Times,serif\" font-size=\"14.00\" text-anchor=\"middle\" x=\"117\" y=\"-306.8\">140287356109880</text>\n",
       "</g>\n",
       "<!-- 140287356109880&#45;&gt;140287356109376 -->\n",
       "<g class=\"edge\" id=\"edge1\"><title>140287356109880-&gt;140287356109376</title>\n",
       "<path d=\"M117,-292.313C117,-284.289 117,-274.547 117,-265.569\" fill=\"none\" stroke=\"black\"/>\n",
       "<polygon fill=\"black\" points=\"120.5,-265.529 117,-255.529 113.5,-265.529 120.5,-265.529\" stroke=\"black\"/>\n",
       "</g>\n",
       "</g>\n",
       "</svg>"
      ],
      "text/plain": [
       "<IPython.core.display.SVG object>"
      ]
     },
     "execution_count": 9,
     "metadata": {},
     "output_type": "execute_result"
    }
   ],
  
  },
  {
   "cell_type": "markdown",
   "metadata": {},
   "source": [
    
   ]
  },
  {
   "cell_type": "code",
   "execution_count": 10,
   "metadata": {},
   "outputs": [
    {
     "name": "stdout",
     "output_type": "stream",
     "text": [
      "WARNING:tensorflow:From /opt/conda/lib/python3.6/site-packages/tensorflow/python/ops/math_ops.py:3066: to_int32 (from tensorflow.python.ops.math_ops) is deprecated and will be removed in a future version.\n",
      "Instructions for updating:\n",
      "Use tf.cast instead.\n",
      "Epoch 1/25\n",
      " - 33s - loss: 0.4489 - acc: 0.7812\n",
      "Epoch 2/25\n",
      " - 30s - loss: 0.3408 - acc: 0.8493\n",
      "Epoch 3/25\n",
      " - 30s - loss: 0.3034 - acc: 0.8706\n",
      "Epoch 4/25\n",
      " - 29s - loss: 0.2754 - acc: 0.8826\n",
      "Epoch 5/25\n",
      " - 30s - loss: 0.2556 - acc: 0.8915\n",
      "Epoch 6/25\n",
      " - 29s - loss: 0.2385 - acc: 0.8997\n",
      "Epoch 7/25\n",
      " - 28s - loss: 0.2193 - acc: 0.9087\n",
      "Epoch 8/25\n",
      " - 30s - loss: 0.2032 - acc: 0.9135\n",
      "Epoch 9/25\n",
      " - 28s - loss: 0.1910 - acc: 0.9214\n",
      "Epoch 10/25\n",
      " - 30s - loss: 0.1718 - acc: 0.9281\n",
      "Epoch 11/25\n",
      " - 29s - loss: 0.1609 - acc: 0.9343\n",
      "Epoch 12/25\n",
      " - 28s - loss: 0.1482 - acc: 0.9414\n",
      "Epoch 13/25\n",
      " - 29s - loss: 0.1304 - acc: 0.9481\n",
      "Epoch 14/25\n",
      " - 28s - loss: 0.1242 - acc: 0.9508\n",
      "Epoch 15/25\n",
      " - 28s - loss: 0.1149 - acc: 0.9533\n",
      "Epoch 16/25\n",
      " - 30s - loss: 0.1081 - acc: 0.9566\n",
      "Epoch 17/25\n",
      " - 28s - loss: 0.0966 - acc: 0.9612\n",
      "Epoch 18/25\n",
      " - 28s - loss: 0.0919 - acc: 0.9631\n",
      "Epoch 19/25\n",
      " - 35s - loss: 0.0802 - acc: 0.9690\n",
      "Epoch 20/25\n",
      " - 28s - loss: 0.0769 - acc: 0.9698\n",
      "Epoch 21/25\n",
      " - 30s - loss: 0.0668 - acc: 0.9740\n",
      "Epoch 22/25\n",
      " - 29s - loss: 0.0646 - acc: 0.9760\n",
      "Epoch 23/25\n",
      " - 28s - loss: 0.0621 - acc: 0.9768\n",
      "Epoch 24/25\n",
      " - 29s - loss: 0.0619 - acc: 0.9758\n",
      "Epoch 25/25\n",
      " - 28s - loss: 0.0515 - acc: 0.9797\n"
     ]
    }
   ],
   "source": [
    "batch_size = 32\n",
    "history = model.fit(X_train, Y_train, epochs = 25, batch_size=batch_size, verbose = 2)"
   ]
  },
  {
   "cell_type": "markdown",
   "metadata": {},
   "source": [
    "Let's check the accuracy and score now"
   ]
  },
  {
   "cell_type": "code",
   "execution_count": 11,
   "metadata": {},
   "outputs": [
    {
     "name": "stdout",
     "output_type": "stream",
     "text": [
      "score: 1.09\n",
      "acc: 0.82\n"
     ]
    }
   ],
   "source": [
    "validation_size = 1500\n",
    "\n",
    "X_validate = X_test[-validation_size:]\n",
    "Y_validate = Y_test[-validation_size:]\n",
    "X_test = X_test[:-validation_size]\n",
    "Y_test = Y_test[:-validation_size]\n",
    "score,acc = model.evaluate(X_test, Y_test, verbose = 2, batch_size = batch_size)\n",
    "print(\"score: %.2f\" % (score))\n",
    "print(\"acc: %.2f\" % (acc))"
   ]
  },
  {
   "cell_type": "markdown",
   "metadata": {},
   "source": [
    "### A graph of accuracy & Loss vs Epoch"
   ]
  },
  {
   "cell_type": "code",
   "execution_count": 12,
   "metadata": {},
   "outputs": [
    {
     "data": {
      "image/png": "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\n",
      "text/plain": [
       "<Figure size 432x288 with 1 Axes>"
      ]
     },
     "metadata": {},
     "output_type": "display_data"
    },
    {
     "data": {
      "image/png": "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\n",
      "text/plain": [
       "<Figure size 432x288 with 1 Axes>"
      ]
     },
     "metadata": {},
     "output_type": "display_data"
    },
    {
     "data": {
      "text/plain": [
       "<Figure size 432x288 with 0 Axes>"
      ]
     },
     "metadata": {},
     "output_type": "display_data"
    }
   ],
   "source": [
    "# summarize history for accuracy\n",
    "plt.plot(history.history['acc'])\n",
    "#plt.plot(history.history['val_acc'])\n",
    "plt.title('model accuracy')\n",
    "plt.ylabel('accuracy')\n",
    "plt.xlabel('epoch')\n",
    "plt.legend(['train', 'test'], loc='upper left')\n",
    "plt.show()\n",
    "plt.savefig('model_accuracy.png')\n",
    "# summarize history for loss\n",
    "plt.plot(history.history['loss'])\n",
    "#plt.plot(history.history['val_loss'])\n",
    "plt.title('model loss')\n",
    "plt.ylabel('loss')\n",
    "plt.xlabel('epoch')\n",
    "plt.legend(['train', 'test'], loc='upper left')\n",
    "plt.show()\n",
    "plt.savefig('model_loss.png')"
   ]
  },
  {
   "cell_type": "markdown",
   "metadata": {},
   "source": [
   ]
  },
  {
   "cell_type": "code",
   "execution_count": 13,
   "metadata": {},
   "outputs": [
    {
     "name": "stdout",
     "output_type": "stream",
     "text": [
      "Sarcasm_acc 80.8446455505279 %\n",
      "Non-Sarcasm_acc 83.75149342891278 %\n"
     ]
    }
   ],
   "source": [
    "pos_cnt, neg_cnt, pos_correct, neg_correct = 0, 0, 0, 0\n",
    "for x in range(len(X_validate)):\n",
    "    \n",
    "    result = model.predict(X_validate[x].reshape(1,X_test.shape[1]),batch_size=1,verbose = 2)[0]\n",
    "   \n",
    "    if np.argmax(result) == np.argmax(Y_validate[x]):\n",
    "        if np.argmax(Y_validate[x]) == 0:\n",
    "            neg_correct += 1\n",
    "        else:\n",
    "            pos_correct += 1\n",
    "       \n",
    "    if np.argmax(Y_validate[x]) == 0:\n",
    "        neg_cnt += 1\n",
    "    else:\n",
    "        pos_cnt += 1\n",
    "\n",
    "\n",
    "\n",
    "print(\"Sarcasm_acc\", pos_correct/pos_cnt*100, \"%\")\n",
    "print(\"Non-Sarcasm_acc\", neg_correct/neg_cnt*100, \"%\")"
   ]
  },
  {
   "cell_type": "markdown",
   "metadata": {},
   "source": [
 
   ]
  },
  {
   "cell_type": "code",
   "execution_count": 14,
   "metadata": {},
   "outputs": [
    {
     "name": "stdout",
     "output_type": "stream",
     "text": [
      "Sarcasm\n"
     ]
    }
   ],
   "source": [
    "headline = ['Trump is the best candidate ever']\n",
    "headline = tokenizer.texts_to_sequences(headline)\n",
    "headline = pad_sequences(headline, maxlen=29, dtype='int32', value=0)\n",
    "\n",
    "sentiment = model.predict(headline,batch_size=1,verbose = 2)[0]\n",
    "if(np.argmax(sentiment) == 0):\n",
    "    print(\"Non-sarcastic\")\n",
    "elif (np.argmax(sentiment) == 1):\n",
    "    print(\"Sarcasm\")"
   ]
  },
  {
   "cell_type": "code",
   "execution_count": 15,
   "metadata": {},
   "outputs": [],
   "source": [
    "#Save the model\n",
    "# serialize model to JSON\n",
    "model_json = model.to_json()\n",
    "with open(\"model.json\", \"w\") as json_file:\n",
    "    json_file.write(model_json)\n",
    "# serialize weights to HDF5\n",
    "model.save_weights(\"model.h5\")"
   ]
  },
  {
   "cell_type": "code",
   "execution_count": 16,
   "metadata": {},
   "outputs": [],
   "source": []
  },
  {
   "cell_type": "code",
   "execution_count": 16,
   "metadata": {},
   "outputs": [],
   "source": []
  }
 ],
 "metadata": {
  "kernelspec": {
   "display_name": "Python 3",
   "language": "python",
   "name": "python3"
  },
  "language_info": {
   "codemirror_mode": {
    "name": "ipython",
    "version": 3
   },
   "file_extension": ".py",
   "mimetype": "text/x-python",
   "name": "python",
   "nbconvert_exporter": "python",
   "pygments_lexer": "ipython3",
   "version": "3.6.4"
  }
 },
 "nbformat": 4,
 "nbformat_minor": 1
}
